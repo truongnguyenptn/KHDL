{
 "cells": [
  {
   "cell_type": "code",
   "execution_count": 1,
   "metadata": {},
   "outputs": [
    {
     "name": "stdout",
     "output_type": "stream",
     "text": [
      "Index(['Title', 'Price sale', 'Price origin', 'Screen', 'CPU', 'Ram',\n",
      "       'Storage', 'Graphics', 'Operating system', 'Weight', 'Dimensions',\n",
      "       'Origin', 'Year', 'urlre\"', 'Brand', 'Name', 'CPU_Model', 'CPU_Code',\n",
      "       'Screen size', 'Resolution', 'Panel_Type', 'Refresh_Rate', 'Brightness',\n",
      "       'Product'],\n",
      "      dtype='object')\n",
      "Index(['Title', 'Price sale', 'Price origin', 'url', 'CPU type', 'RAM type',\n",
      "       'Number of RAM slots', 'Material', 'Security', 'Manufacturer',\n",
      "       'Panel material', 'Screen size', 'Screen resolution',\n",
      "       'Operating system', 'Brand', 'Storage', 'Ram', 'CPU'],\n",
      "      dtype='object')\n",
      "Index(['Title', 'Price sale', 'Price origin', 'url', 'CPU type', 'RAM type',\n",
      "       'Number of RAM slots', 'Material', 'Security', 'Manufacturer',\n",
      "       'Panel material', 'Screen size', 'Screen resolution',\n",
      "       'Operating system', 'Brand', 'Storage', 'Ram', 'CPU'],\n",
      "      dtype='object')\n"
     ]
    }
   ],
   "source": [
    "import pandas as pd\n",
    "import re\n",
    "\n",
    "df1 = pd.read_csv(r'../clean data/fptshopclean.csv')\n",
    "\n",
    "df2 = pd.read_csv(r'../clean data/cellphoneSclean.csv')\n",
    "\n",
    "df3 = pd.read_csv(r'../clean data/philongclean.csv')\n",
    "print(df1.columns)\n",
    "print(df2.columns)\n",
    "print(df2.columns)\n"
   ]
  },
  {
   "cell_type": "code",
   "execution_count": 2,
   "metadata": {},
   "outputs": [],
   "source": [
    "\n",
    "common_columns = df1.columns.intersection(df2.columns)\n",
    "\n",
    "# Chỉ chọn các cột chung từ mỗi DataFrame\n",
    "\n",
    "df1_common = df1[common_columns]\n",
    "df2_common = df2[common_columns]\n",
    "df3_common = df3[common_columns]\n",
    "\n",
    "merged_df = pd.concat([df1_common, df2_common,df3_common], ignore_index=True)\n",
    "\n",
    "# Lưu DataFrame đã gộp thành một tệp CSV mới\n",
    "merged_df.to_csv('../clean data/clean_data.csv', index=False)\n",
    "merged_df.to_csv('../crawldata/raw_data.csv', index=False)\n"
   ]
  },
  {
   "cell_type": "code",
   "execution_count": 3,
   "metadata": {},
   "outputs": [
    {
     "name": "stdout",
     "output_type": "stream",
     "text": [
      "(874, 9)\n",
      "<class 'pandas.core.frame.DataFrame'>\n",
      "RangeIndex: 874 entries, 0 to 873\n",
      "Data columns (total 9 columns):\n",
      " #   Column            Non-Null Count  Dtype  \n",
      "---  ------            --------------  -----  \n",
      " 0   Title             874 non-null    object \n",
      " 1   Price sale        873 non-null    float64\n",
      " 2   Price origin      873 non-null    float64\n",
      " 3   CPU               846 non-null    object \n",
      " 4   Ram               872 non-null    float64\n",
      " 5   Storage           870 non-null    float64\n",
      " 6   Operating system  874 non-null    object \n",
      " 7   Brand             874 non-null    object \n",
      " 8   Screen size       872 non-null    float64\n",
      "dtypes: float64(5), object(4)\n",
      "memory usage: 61.6+ KB\n"
     ]
    }
   ],
   "source": [
    "df=pd.read_csv('../clean data/raw_data.csv')\n",
    "print(df.shape)\n",
    "df.info()\n"
   ]
  }
 ],
 "metadata": {
  "kernelspec": {
   "display_name": "Python 3",
   "language": "python",
   "name": "python3"
  },
  "language_info": {
   "codemirror_mode": {
    "name": "ipython",
    "version": 3
   },
   "file_extension": ".py",
   "mimetype": "text/x-python",
   "name": "python",
   "nbconvert_exporter": "python",
   "pygments_lexer": "ipython3",
   "version": "3.12.3"
  }
 },
 "nbformat": 4,
 "nbformat_minor": 2
}
